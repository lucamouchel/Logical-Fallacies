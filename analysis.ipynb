{
 "cells": [
  {
   "cell_type": "code",
   "execution_count": 9,
   "metadata": {},
   "outputs": [],
   "source": [
    "import pandas as pd "
   ]
  },
  {
   "cell_type": "code",
   "execution_count": 10,
   "metadata": {},
   "outputs": [],
   "source": [
    "df = pd.read_csv('/mnt/lia/scratch/mouchel/Logical-Fallacies/fallacy_type_classification.csv')"
   ]
  },
  {
   "cell_type": "code",
   "execution_count": 11,
   "metadata": {},
   "outputs": [],
   "source": [
    "df = df[['Input.topic', 'Input.stance', 'Input.argument', 'Input.fallacy_type', 'Answer.q1_valid']]"
   ]
  },
  {
   "cell_type": "code",
   "execution_count": 12,
   "metadata": {},
   "outputs": [],
   "source": [
    "df2 = df.groupby(['Input.argument', 'Input.fallacy_type'])"
   ]
  },
  {
   "cell_type": "code",
   "execution_count": 13,
   "metadata": {},
   "outputs": [],
   "source": [
    "df.loc[df['Input.fallacy_type'].isna(), 'Input.fallacy_type'] = 'None'"
   ]
  },
  {
   "cell_type": "code",
   "execution_count": null,
   "metadata": {},
   "outputs": [],
   "source": []
  },
  {
   "cell_type": "code",
   "execution_count": 21,
   "metadata": {},
   "outputs": [
    {
     "name": "stdout",
     "output_type": "stream",
     "text": [
      "100\n"
     ]
    },
    {
     "data": {
      "text/plain": [
       "Counter({0: 35, 5: 5, 1: 3, 8: 1, 4: 1, 2: 1, 7: 1})"
      ]
     },
     "execution_count": 21,
     "metadata": {},
     "output_type": "execute_result"
    }
   ],
   "source": [
    "d = {}\n",
    "\n",
    "for i, row in df.iterrows():\n",
    "    argument = row['Input.argument']\n",
    "    fallacy_type = row['Input.fallacy_type']\n",
    "    \n",
    "    valid = row['Answer.q1_valid']\n",
    "    if argument + ' ' +  fallacy_type not in d:\n",
    "        d[argument + ' ' + fallacy_type] = [valid]\n",
    "    else:\n",
    "        d[argument + ' ' + fallacy_type].append(valid)\n",
    "    \n",
    "\n",
    "print(len(d))\n",
    "has_majority = 0\n",
    "agreed_majorities = []\n",
    "from collections import Counter\n",
    "for ls in d.values():\n",
    "    cter = Counter(ls)\n",
    "    \n",
    "    if (max(cter.values())) >= 2:\n",
    "        majority_value = list(cter.keys())[list(cter.values()).index(max(cter.values()))]\n",
    "\n",
    "        agreed_majorities.append(majority_value)\n",
    "\n",
    "        has_majority+=1\n",
    "\n",
    "Counter(agreed_majorities)"
   ]
  },
  {
   "cell_type": "code",
   "execution_count": 7,
   "metadata": {},
   "outputs": [],
   "source": [
    "df = pd.read_csv('/mnt/lia/scratch/mouchel/Logical-Fallacies/src/EVAL/AMT/annotations/SFT_vs_FIPO.csv')\n",
    "df = df[['Input.topic', 'Input.stance', 'Input.argument1', 'Input.argument2', 'Answer.q1_valid']]"
   ]
  },
  {
   "cell_type": "code",
   "execution_count": 10,
   "metadata": {},
   "outputs": [
    {
     "name": "stdout",
     "output_type": "stream",
     "text": [
      "200\n"
     ]
    },
    {
     "data": {
      "text/plain": [
       "176"
      ]
     },
     "execution_count": 10,
     "metadata": {},
     "output_type": "execute_result"
    }
   ],
   "source": [
    "d = {}\n",
    "\n",
    "for i, row in df.iterrows():\n",
    "    argument1= row['Input.argument1']\n",
    "    argument2 = row['Input.argument2']\n",
    "    valid = row['Answer.q1_valid']\n",
    "    if valid == -10 or valid == 10:\n",
    "        valid = 0\n",
    "    if argument1 + ' ' + argument2 not in d:\n",
    "        d[argument1 + ' ' + argument2 ] = [valid]\n",
    "    else:\n",
    "        d[argument1 + ' ' + argument2].append(valid)\n",
    "        \n",
    "print(len(d))\n",
    "has_majority = 0\n",
    "from collections import Counter\n",
    "for ls in d.values():\n",
    "    cter = Counter(ls)\n",
    "    if (max(cter.values())) >= 2:\n",
    "        has_majority+=1\n",
    "\n",
    "has_majority"
   ]
  },
  {
   "cell_type": "code",
   "execution_count": 6,
   "metadata": {},
   "outputs": [
    {
     "data": {
      "text/plain": [
       "{\"Cosmetic surgery is a choice and shouldn't be restricted. Young people have money and are old enough to know what they want.\": [-10]}"
      ]
     },
     "execution_count": 6,
     "metadata": {},
     "output_type": "execute_result"
    }
   ],
   "source": [
    "d"
   ]
  }
 ],
 "metadata": {
  "kernelspec": {
   "display_name": "project",
   "language": "python",
   "name": "python3"
  },
  "language_info": {
   "codemirror_mode": {
    "name": "ipython",
    "version": 3
   },
   "file_extension": ".py",
   "mimetype": "text/x-python",
   "name": "python",
   "nbconvert_exporter": "python",
   "pygments_lexer": "ipython3",
   "version": "3.12.4"
  }
 },
 "nbformat": 4,
 "nbformat_minor": 2
}
